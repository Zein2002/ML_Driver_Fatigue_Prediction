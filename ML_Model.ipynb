{
 "cells": [
  {
   "attachments": {},
   "cell_type": "markdown",
   "metadata": {},
   "source": [
    "# Fatigue Detection Machine Learning Model"
   ]
  },
  {
   "attachments": {},
   "cell_type": "markdown",
   "metadata": {},
   "source": [
    "## Package Imports"
   ]
  },
  {
   "cell_type": "code",
   "execution_count": 12,
   "metadata": {},
   "outputs": [],
   "source": [
    "import os\n",
    "import pandas as pd\n",
    "import torch\n",
    "from torch import nn\n",
    "from torch.utils.data import DataLoader\n",
    "from torch.utils.data import Dataset\n",
    "from torchvision.io import read_video\n",
    "from torchvision.transforms import ToTensor"
   ]
  },
  {
   "attachments": {},
   "cell_type": "markdown",
   "metadata": {},
   "source": [
    "## Data Import"
   ]
  },
  {
   "cell_type": "code",
   "execution_count": 13,
   "metadata": {},
   "outputs": [],
   "source": [
    "# Custom Dataset Class\n",
    "class VideoDataset(Dataset):\n",
    "    def __init__(self, data_dir, test=False):\n",
    "        self.data_dir = data_dir\n",
    "        self.samples = []\n",
    "        self.test = test\n",
    "\n",
    "        for subject_folder in os.listdir(data_dir):\n",
    "            for case_folder in os.listdir(os.path.join(data_dir, subject_folder)):\n",
    "                for file in os.listdir(os.path.join(data_dir, subject_folder, case_folder)):\n",
    "                    if file.endswith(('.avi', '.mp4')):\n",
    "                        file_path = os.path.join(\n",
    "                            data_dir, subject_folder, case_folder, file)\n",
    "                        if test:\n",
    "                            self.samples.append({\n",
    "                                'video_path': file_path,\n",
    "                                'drowsy_label': file_path[:-4] + 'ing_drowsiness.txt',\n",
    "                            })\n",
    "                        else:\n",
    "                            self.samples.append({\n",
    "                                'video_path': file_path,\n",
    "                                'drowsy_label': file_path[:-4] + '_drowsiness.txt',\n",
    "                                'eye_label': file_path[:-4] + '_eye.txt',\n",
    "                                'head_label': file_path[:-4] + '_head.txt',\n",
    "                                'mouth_label': file_path[:-4] + '_mouth.txt'\n",
    "                            })\n",
    "\n",
    "    def __len__(self):\n",
    "        return len(self.samples)\n",
    "\n",
    "    def __getitem__(self, idx):\n",
    "        sample = self.samples[idx]\n",
    "        print(sample['video_path'])\n",
    "        video_data = read_video(sample['video_path'])\n",
    "        return video_data"
   ]
  },
  {
   "cell_type": "code",
   "execution_count": 14,
   "metadata": {},
   "outputs": [
    {
     "name": "stdout",
     "output_type": "stream",
     "text": [
      "./Data/Training_Evaluation_Dataset/Evaluation_Dataset\\004\\glasses\\004_glasses_mixing.mp4\n"
     ]
    },
    {
     "name": "stderr",
     "output_type": "stream",
     "text": [
      "c:\\Users\\zein_\\anaconda3\\envs\\Dissertation\\lib\\site-packages\\torchvision\\io\\video.py:161: UserWarning: The pts_unit 'pts' gives wrong results. Please use pts_unit 'sec'.\n",
      "  warnings.warn(\"The pts_unit 'pts' gives wrong results. Please use pts_unit 'sec'.\")\n"
     ]
    },
    {
     "name": "stdout",
     "output_type": "stream",
     "text": [
      "./Data/Training_Evaluation_Dataset/Evaluation_Dataset\\004\\nightglasses\\004_nightglasses_mixing.mp4\n"
     ]
    }
   ],
   "source": [
    "training_data = VideoDataset(\"./Data/Training_Evaluation_Dataset/Training_Dataset\")\n",
    "evaluation_data = VideoDataset(\"./Data/Training_Evaluation_Dataset/Evaluation_Dataset\")\n",
    "testing_data = VideoDataset(\"./Data/Testing_Dataset/\", True)\n",
    "for i in range(evaluation_data.__len__()):\n",
    "    evaluation_data.__getitem__(i)"
   ]
  },
  {
   "cell_type": "code",
   "execution_count": null,
   "metadata": {},
   "outputs": [
    {
     "ename": "NameError",
     "evalue": "name 'test_data' is not defined",
     "output_type": "error",
     "traceback": [
      "\u001b[1;31m---------------------------------------------------------------------------\u001b[0m",
      "\u001b[1;31mNameError\u001b[0m                                 Traceback (most recent call last)",
      "Cell \u001b[1;32mIn[8], line 5\u001b[0m\n\u001b[0;32m      3\u001b[0m \u001b[39m# Create data loaders.\u001b[39;00m\n\u001b[0;32m      4\u001b[0m train_dataloader \u001b[39m=\u001b[39m DataLoader(training_data, batch_size\u001b[39m=\u001b[39mbatch_size)\n\u001b[1;32m----> 5\u001b[0m test_dataloader \u001b[39m=\u001b[39m DataLoader(test_data, batch_size\u001b[39m=\u001b[39mbatch_size)\n\u001b[0;32m      7\u001b[0m \u001b[39mfor\u001b[39;00m X, y \u001b[39min\u001b[39;00m test_dataloader:\n\u001b[0;32m      8\u001b[0m     \u001b[39mprint\u001b[39m(\u001b[39mf\u001b[39m\u001b[39m\"\u001b[39m\u001b[39mShape of X [N, C, H, W]: \u001b[39m\u001b[39m{\u001b[39;00mX\u001b[39m.\u001b[39mshape\u001b[39m}\u001b[39;00m\u001b[39m\"\u001b[39m)\n",
      "\u001b[1;31mNameError\u001b[0m: name 'test_data' is not defined"
     ]
    }
   ],
   "source": [
    "batch_size = 64\n",
    "\n",
    "# Create data loaders.\n",
    "train_dataloader = DataLoader(training_data, batch_size=batch_size)\n",
    "test_dataloader = DataLoader(test_data, batch_size=batch_size)\n",
    "\n",
    "for X, y in test_dataloader:\n",
    "    print(f\"Shape of X [N, C, H, W]: {X.shape}\")\n",
    "    print(f\"Shape of y: {y.shape} {y.dtype}\")\n",
    "    break"
   ]
  },
  {
   "attachments": {},
   "cell_type": "markdown",
   "metadata": {},
   "source": [
    "## Neural Network"
   ]
  },
  {
   "cell_type": "code",
   "execution_count": null,
   "metadata": {},
   "outputs": [
    {
     "name": "stdout",
     "output_type": "stream",
     "text": [
      "Using cuda device\n",
      "NeuralNetwork(\n",
      "  (flatten): Flatten(start_dim=1, end_dim=-1)\n",
      "  (linear_relu_stack): Sequential(\n",
      "    (0): Linear(in_features=784, out_features=512, bias=True)\n",
      "    (1): ReLU()\n",
      "    (2): Linear(in_features=512, out_features=512, bias=True)\n",
      "    (3): ReLU()\n",
      "    (4): Linear(in_features=512, out_features=10, bias=True)\n",
      "  )\n",
      ")\n"
     ]
    }
   ],
   "source": [
    "# Get cpu or gpu device for training.\n",
    "device = \"cuda\" if torch.cuda.is_available() else \"mps\" if torch.backends.mps.is_available() else \"cpu\"\n",
    "print(f\"Using {device} device\")\n",
    "\n",
    "# Define model\n",
    "class NeuralNetwork(nn.Module):\n",
    "    def __init__(self):\n",
    "        super().__init__()\n",
    "        self.flatten = nn.Flatten()\n",
    "        self.linear_relu_stack = nn.Sequential(\n",
    "            nn.Linear(28*28, 512),\n",
    "            nn.ReLU(),\n",
    "            nn.Linear(512, 512),\n",
    "            nn.ReLU(),\n",
    "            nn.Linear(512, 10)\n",
    "        )\n",
    "\n",
    "    def forward(self, x):\n",
    "        x = self.flatten(x)\n",
    "        logits = self.linear_relu_stack(x)\n",
    "        return logits\n",
    "\n",
    "model = NeuralNetwork().to(device)\n",
    "print(model)"
   ]
  },
  {
   "cell_type": "code",
   "execution_count": null,
   "metadata": {},
   "outputs": [],
   "source": [
    "loss_fn = nn.CrossEntropyLoss()\n",
    "optimizer = torch.optim.SGD(model.parameters(), lr=1e-3)"
   ]
  },
  {
   "cell_type": "code",
   "execution_count": null,
   "metadata": {},
   "outputs": [],
   "source": [
    "def train(dataloader, model, loss_fn, optimizer):\n",
    "    size = len(dataloader.dataset)\n",
    "    model.train()\n",
    "    for batch, (X, y) in enumerate(dataloader):\n",
    "        X, y = X.to(device), y.to(device)\n",
    "\n",
    "        # Compute prediction error\n",
    "        pred = model(X)\n",
    "        loss = loss_fn(pred, y)\n",
    "\n",
    "        # Backpropagation\n",
    "        optimizer.zero_grad()\n",
    "        loss.backward()\n",
    "        optimizer.step()\n",
    "\n",
    "        if batch % 100 == 0:\n",
    "            loss, current = loss.item(), (batch + 1) * len(X)\n",
    "            print(f\"loss: {loss:>7f}  [{current:>5d}/{size:>5d}]\")"
   ]
  },
  {
   "cell_type": "code",
   "execution_count": null,
   "metadata": {},
   "outputs": [],
   "source": [
    "def test(dataloader, model, loss_fn):\n",
    "    size = len(dataloader.dataset)\n",
    "    num_batches = len(dataloader)\n",
    "    model.eval()\n",
    "    test_loss, correct = 0, 0\n",
    "    with torch.no_grad():\n",
    "        for X, y in dataloader:\n",
    "            X, y = X.to(device), y.to(device)\n",
    "            pred = model(X)\n",
    "            test_loss += loss_fn(pred, y).item()\n",
    "            correct += (pred.argmax(1) == y).type(torch.float).sum().item()\n",
    "    test_loss /= num_batches\n",
    "    correct /= size\n",
    "    print(f\"Test Error: \\n Accuracy: {(100*correct):>0.1f}%, Avg loss: {test_loss:>8f} \\n\")"
   ]
  },
  {
   "cell_type": "code",
   "execution_count": null,
   "metadata": {},
   "outputs": [
    {
     "name": "stdout",
     "output_type": "stream",
     "text": [
      "Epoch 1\n",
      "-------------------------------\n",
      "loss: 2.312170  [   64/60000]\n",
      "loss: 2.293956  [ 6464/60000]\n",
      "loss: 2.273635  [12864/60000]\n",
      "loss: 2.263413  [19264/60000]\n",
      "loss: 2.256236  [25664/60000]\n",
      "loss: 2.227988  [32064/60000]\n",
      "loss: 2.230313  [38464/60000]\n",
      "loss: 2.205057  [44864/60000]\n",
      "loss: 2.204941  [51264/60000]\n",
      "loss: 2.165660  [57664/60000]\n",
      "Test Error: \n",
      " Accuracy: 40.9%, Avg loss: 2.164699 \n",
      "\n",
      "Epoch 2\n",
      "-------------------------------\n",
      "loss: 2.178445  [   64/60000]\n",
      "loss: 2.169152  [ 6464/60000]\n",
      "loss: 2.111590  [12864/60000]\n",
      "loss: 2.126540  [19264/60000]\n",
      "loss: 2.089863  [25664/60000]\n",
      "loss: 2.025366  [32064/60000]\n",
      "loss: 2.055251  [38464/60000]\n",
      "loss: 1.980800  [44864/60000]\n",
      "loss: 1.988140  [51264/60000]\n",
      "loss: 1.921827  [57664/60000]\n",
      "Test Error: \n",
      " Accuracy: 58.3%, Avg loss: 1.916599 \n",
      "\n",
      "Epoch 3\n",
      "-------------------------------\n",
      "loss: 1.946239  [   64/60000]\n",
      "loss: 1.924348  [ 6464/60000]\n",
      "loss: 1.804683  [12864/60000]\n",
      "loss: 1.846665  [19264/60000]\n",
      "loss: 1.753213  [25664/60000]\n",
      "loss: 1.690940  [32064/60000]\n",
      "loss: 1.722720  [38464/60000]\n",
      "loss: 1.617055  [44864/60000]\n",
      "loss: 1.640552  [51264/60000]\n",
      "loss: 1.544754  [57664/60000]\n",
      "Test Error: \n",
      " Accuracy: 60.6%, Avg loss: 1.552760 \n",
      "\n",
      "Epoch 4\n",
      "-------------------------------\n",
      "loss: 1.612590  [   64/60000]\n",
      "loss: 1.583436  [ 6464/60000]\n",
      "loss: 1.427885  [12864/60000]\n",
      "loss: 1.502973  [19264/60000]\n",
      "loss: 1.385147  [25664/60000]\n",
      "loss: 1.372477  [32064/60000]\n",
      "loss: 1.393486  [38464/60000]\n",
      "loss: 1.312381  [44864/60000]\n",
      "loss: 1.346375  [51264/60000]\n",
      "loss: 1.249586  [57664/60000]\n",
      "Test Error: \n",
      " Accuracy: 62.9%, Avg loss: 1.273118 \n",
      "\n",
      "Epoch 5\n",
      "-------------------------------\n",
      "loss: 1.345577  [   64/60000]\n",
      "loss: 1.331322  [ 6464/60000]\n",
      "loss: 1.163197  [12864/60000]\n",
      "loss: 1.270625  [19264/60000]\n",
      "loss: 1.140440  [25664/60000]\n",
      "loss: 1.166998  [32064/60000]\n",
      "loss: 1.188590  [38464/60000]\n",
      "loss: 1.124556  [44864/60000]\n",
      "loss: 1.163000  [51264/60000]\n",
      "loss: 1.079355  [57664/60000]\n",
      "Test Error: \n",
      " Accuracy: 64.4%, Avg loss: 1.100093 \n",
      "\n",
      "Done!\n"
     ]
    }
   ],
   "source": [
    "epochs = 5\n",
    "for t in range(epochs):\n",
    "    print(f\"Epoch {t+1}\\n-------------------------------\")\n",
    "    train(train_dataloader, model, loss_fn, optimizer)\n",
    "    test(test_dataloader, model, loss_fn)\n",
    "print(\"Done!\")"
   ]
  }
 ],
 "metadata": {
  "kernelspec": {
   "display_name": "Dissertation",
   "language": "python",
   "name": "python3"
  },
  "language_info": {
   "codemirror_mode": {
    "name": "ipython",
    "version": 3
   },
   "file_extension": ".py",
   "mimetype": "text/x-python",
   "name": "python",
   "nbconvert_exporter": "python",
   "pygments_lexer": "ipython3",
   "version": "3.9.16"
  },
  "orig_nbformat": 4,
  "vscode": {
   "interpreter": {
    "hash": "79b9e40dc87096106260eb6d5963eaa3f384fc71d628cd27f9974cd483560fb9"
   }
  }
 },
 "nbformat": 4,
 "nbformat_minor": 2
}
